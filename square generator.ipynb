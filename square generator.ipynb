{
 "cells": [
  {
   "cell_type": "code",
   "execution_count": 1,
   "metadata": {},
   "outputs": [
    {
     "name": "stderr",
     "output_type": "stream",
     "text": [
      "C:\\ProgramData\\Anaconda3\\lib\\site-packages\\statsmodels\\compat\\pandas.py:56: FutureWarning: The pandas.core.datetools module is deprecated and will be removed in a future version. Please use the pandas.tseries module instead.\n",
      "  from pandas.core import datetools\n",
      "Using TensorFlow backend.\n"
     ]
    }
   ],
   "source": [
    "%run C://Users/a/apython/__init__/Normal_for_DSS.py"
   ]
  },
  {
   "cell_type": "code",
   "execution_count": 185,
   "metadata": {
    "collapsed": true
   },
   "outputs": [],
   "source": [
    "def two_point(k):\n",
    "    a_x = np.random.randint(k)\n",
    "    a_y = np.random.randint(k)\n",
    "    b_x = np.random.randint(k)\n",
    "    b_y = np.random.randint(k)\n",
    "    if abs(b_x - a_x) < 2 :\n",
    "        b_x = np.random.randint(k)\n",
    "        if abs(b_x - a_x) < 2:\n",
    "            b_x = np.random.randint(k)\n",
    "    if abs(b_y == a_y) < 2:\n",
    "        b_y = np.random.randint(k)\n",
    "        if abs(b_y == a_y) < 2:\n",
    "            b_y = np.random.randint(k)\n",
    "    c_x = min(a_x,b_x)\n",
    "    c_y = min(a_y,b_y)\n",
    "    d_x = max(a_x,b_x)\n",
    "    d_y = max(a_y,b_y)\n",
    "    return (c_x, c_y, d_x, d_y)\n",
    "\n",
    "def zeros(k):\n",
    "    mat = np.zeros((k,k))\n",
    "    return (mat)\n",
    "\n",
    "def mk_square(k):\n",
    "    back = zeros(k)\n",
    "    c_x, c_y, d_x, d_y = two_point(k)\n",
    "    back[c_x,c_y:d_y+1] = 1\n",
    "    back[d_x,c_y:d_y+1] = 1\n",
    "    back[c_x:d_x,c_y] = 1\n",
    "    back[c_x:d_x,d_y] = 1\n",
    "    return back"
   ]
  },
  {
   "cell_type": "code",
   "execution_count": 186,
   "metadata": {
    "collapsed": true
   },
   "outputs": [],
   "source": [
    "D = np.arange(5000*50*50).reshape(5000,50,50)\n",
    "for i in range (5000):\n",
    "    D[i] = mk_square(50)\n"
   ]
  },
  {
   "cell_type": "code",
   "execution_count": 187,
   "metadata": {
    "collapsed": true
   },
   "outputs": [],
   "source": [
    "E = D.reshape(5000,-1)"
   ]
  },
  {
   "cell_type": "code",
   "execution_count": 188,
   "metadata": {
    "collapsed": true
   },
   "outputs": [],
   "source": [
    "F = np.ones((5000,1))"
   ]
  },
  {
   "cell_type": "code",
   "execution_count": 189,
   "metadata": {
    "collapsed": true
   },
   "outputs": [],
   "source": [
    "square= pd.DataFrame(E)"
   ]
  },
  {
   "cell_type": "code",
   "execution_count": 190,
   "metadata": {
    "collapsed": true
   },
   "outputs": [],
   "source": [
    "cat = pd.DataFrame(F*2)\n",
    "cat.columns ={\"cat\"}"
   ]
  },
  {
   "cell_type": "code",
   "execution_count": 191,
   "metadata": {
    "collapsed": true
   },
   "outputs": [],
   "source": [
    "sq = pd.merge(cat,square,left_index=True, right_index=True)"
   ]
  },
  {
   "cell_type": "code",
   "execution_count": 192,
   "metadata": {
    "collapsed": true
   },
   "outputs": [],
   "source": [
    "sqq = sq.iloc[:,1:]"
   ]
  },
  {
   "cell_type": "code",
   "execution_count": 197,
   "metadata": {},
   "outputs": [
    {
     "name": "stderr",
     "output_type": "stream",
     "text": [
      "C:\\ProgramData\\Anaconda3\\lib\\site-packages\\ipykernel_launcher.py:1: FutureWarning: reshape is deprecated and will raise in a subsequent release. Please use .values.reshape(...) instead\n",
      "  \"\"\"Entry point for launching an IPython kernel.\n"
     ]
    },
    {
     "data": {
      "image/png": "[encoded data removed]",
      "text/plain": [
       "<matplotlib.figure.Figure at 0x10aaf2b0>"
      ]
     },
     "metadata": {},
     "output_type": "display_data"
    }
   ],
   "source": [
    "plt.imshow(sqq.iloc[3].reshape(50,50))\n",
    "plt.show()"
   ]
  },
  {
   "cell_type": "code",
   "execution_count": 198,
   "metadata": {
    "collapsed": true
   },
   "outputs": [],
   "source": [
    "sq.to_csv(\"squares.csv\")"
   ]
  },
  {
   "cell_type": "code",
   "execution_count": null,
   "metadata": {
    "collapsed": true
   },
   "outputs": [],
   "source": []
  }
 ],
 "metadata": {
  "kernelspec": {
   "display_name": "Python 3",
   "language": "python",
   "name": "python3"
  },
  "language_info": {
   "codemirror_mode": {
    "name": "ipython",
    "version": 3
   },
   "file_extension": ".py",
   "mimetype": "text/x-python",
   "name": "python",
   "nbconvert_exporter": "python",
   "pygments_lexer": "ipython3",
   "version": "3.6.1"
  }
 },
 "nbformat": 4,
 "nbformat_minor": 2
}
