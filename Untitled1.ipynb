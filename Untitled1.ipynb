{
 "cells": [
  {
   "cell_type": "code",
   "execution_count": 23,
   "metadata": {},
   "outputs": [],
   "source": [
    "import numpy as np\n",
    "import argparse\n",
    "import cv2"
   ]
  },
  {
   "cell_type": "code",
   "execution_count": 28,
   "metadata": {},
   "outputs": [],
   "source": [
    "class ShapeDetector:\n",
    "\tdef __init__(self):\n",
    "\t\tpass\n",
    " \n",
    "\tdef detect(self, c):\n",
    "\t\t# initialize the shape name and approximate the contour\n",
    "\t\tshape = \"unidentified\"\n",
    "\t\tperi = cv2.arcLength(c, True)\n",
    "\t\tapprox = cv2.approxPolyDP(c, 0.04 * peri, True)\n",
    "\n",
    "# import the necessary packages\n",
    "import cv2\n",
    "\n",
    "class ShapeDetector:\n",
    "\tdef __init__(self):\n",
    "\t\tpass\n",
    "\n",
    "\tdef detect(self, c):\n",
    "\t\t# initialize the shape name and approximate the contour\n",
    "\t\tshape = \"unidentified\"\n",
    "\t\tperi = cv2.arcLength(c, True)\n",
    "\t\tapprox = cv2.approxPolyDP(c, 0.04 * peri, True)\n",
    "\n",
    "\t\t# if the shape is a triangle, it will have 3 vertices\n",
    "\t\tif len(approx) == 3:\n",
    "\t\t\tshape = \"triangle\"\n",
    "\n",
    "\t\t# if the shape has 4 vertices, it is either a square or\n",
    "\t\t# a rectangle\n",
    "\t\telif len(approx) == 4:\n",
    "\t\t\t# compute the bounding box of the contour and use the\n",
    "\t\t\t# bounding box to compute the aspect ratio\n",
    "\t\t\t(x, y, w, h) = cv2.boundingRect(approx)\n",
    "\t\t\tar = w / float(h)\n",
    "\n",
    "\t\t\t# a square will have an aspect ratio that is approximately\n",
    "\t\t\t# equal to one, otherwise, the shape is a rectangle\n",
    "\t\t\tshape = \"square\" if ar >= 0.95 and ar <= 1.05 else \"rectangle\"\n",
    "\n",
    "\t\t# if the shape is a pentagon, it will have 5 vertices\n",
    "\t\telif len(approx) == 5:\n",
    "\t\t\tshape = \"pentagon\"\n",
    "\n",
    "\t\t# otherwise, we assume the shape is a circle\n",
    "\t\telse:\n",
    "\t\t\tshape = \"circle\"\n",
    "\n",
    "\t\t# return the name of the shape\n",
    "\t\treturn shape\n"
   ]
  },
  {
   "cell_type": "code",
   "execution_count": 26,
   "metadata": {},
   "outputs": [
    {
     "data": {
      "text/plain": [
       "'C://Users/a/GitHub/make_algorithm_diagram/datas/num.jpg'"
      ]
     },
     "execution_count": 26,
     "metadata": {},
     "output_type": "execute_result"
    }
   ],
   "source": []
  },
  {
   "cell_type": "code",
   "execution_count": 29,
   "metadata": {},
   "outputs": [
    {
     "data": {
      "text/plain": [
       "'C://Users/a/GitHub/make_algorithm_diagram/datas/num.jpg'"
      ]
     },
     "execution_count": 29,
     "metadata": {},
     "output_type": "execute_result"
    }
   ],
   "source": [
    "\"C://Users/a/GitHub/make_algorithm_diagram/datas/num.jpg\""
   ]
  },
  {
   "cell_type": "code",
   "execution_count": null,
   "metadata": {
    "collapsed": true
   },
   "outputs": [],
   "source": []
  },
  {
   "cell_type": "code",
   "execution_count": null,
   "metadata": {
    "collapsed": true
   },
   "outputs": [],
   "source": []
  }
 ],
 "metadata": {
  "kernelspec": {
   "display_name": "Python 3",
   "language": "python",
   "name": "python3"
  },
  "language_info": {
   "codemirror_mode": {
    "name": "ipython",
    "version": 3
   },
   "file_extension": ".py",
   "mimetype": "text/x-python",
   "name": "python",
   "nbconvert_exporter": "python",
   "pygments_lexer": "ipython3",
   "version": "3.6.1"
  }
 },
 "nbformat": 4,
 "nbformat_minor": 2
}
