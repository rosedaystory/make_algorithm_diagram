{
 "cells": [
  {
   "cell_type": "code",
   "execution_count": 1,
   "metadata": {},
   "outputs": [
    {
     "name": "stderr",
     "output_type": "stream",
     "text": [
      "C:\\ProgramData\\Anaconda3\\lib\\site-packages\\statsmodels\\compat\\pandas.py:56: FutureWarning: The pandas.core.datetools module is deprecated and will be removed in a future version. Please use the pandas.tseries module instead.\n",
      "  from pandas.core import datetools\n",
      "Using TensorFlow backend.\n"
     ]
    }
   ],
   "source": [
    "%run C://Users/a/apython/__init__/Normal_for_DSS.py"
   ]
  },
  {
   "cell_type": "code",
   "execution_count": 28,
   "metadata": {
    "collapsed": true
   },
   "outputs": [],
   "source": [
    "def two_point(k):\n",
    "    a_x = np.random.randint((k-1)//2)*2\n",
    "    a_y = np.random.randint((k-1)//2)*2\n",
    "    b_x = np.random.randint((k-1)//2) * 2\n",
    "    b_y = np.random.randint((k-1)//2) * 2\n",
    "    while abs(b_x - a_x) < 10 :\n",
    "        b_x = np.random.randint((k-1)//2) * 2\n",
    "\n",
    "    while abs(b_y - a_y) < 10:\n",
    "        b_y = np.random.randint((k-1)//2) * 2\n",
    "        \n",
    "    c_x = min(a_x,b_x)\n",
    "    c_y = min(a_y,b_y)\n",
    "    d_x = max(a_x,b_x)\n",
    "    d_y = max(a_y,b_y)\n",
    "    return (c_x, c_y, d_x, d_y)\n",
    "\n",
    "\n",
    "\n",
    "def liner0(D, c_x,c_y,d_x,d_y):\n",
    "    a = (c_y - d_y)/(d_x - c_x)\n",
    "\n",
    "    for i in range (d_x - c_x):\n",
    "        x = c_x + i\n",
    "        y = int(c_y + a * (i))\n",
    "        D[x][y] = 1\n",
    "\n",
    "    for i in range (d_y - c_y):\n",
    "        y = c_y + i\n",
    "        x = int(c_x + (1./a) * (i))\n",
    "        D[x][y] = 1\n",
    "    return (D)\n",
    "\n",
    "\n",
    "\n",
    "def liner(D, c_x,c_y,d_x,d_y):\n",
    "    a = (d_y - c_y)/(d_x - c_x)\n",
    "\n",
    "    for i in range (d_x - c_x):\n",
    "        x = c_x + i\n",
    "        y = int(np.sqrt(( a * (i))/(d_y - c_y)) * (d_y - c_y) + c_y)\n",
    "        D[x][y] = 1\n",
    "\n",
    "    for i in range (d_y - c_y):\n",
    "        y = c_y + i\n",
    "        x = int(c_x + (1./a) * (i))\n",
    "        D[x][y] = 1\n",
    "    return (D)\n",
    "\n",
    "def liner_0(D, c_x,c_y,d_x,d_y):\n",
    "    a = (d_y - c_y)/(d_x - c_x)\n",
    "\n",
    "    for i in range (d_x - c_x):\n",
    "        x = c_x + i\n",
    "        y = int(c_y + a * (i))\n",
    "        D[x][y] = 1\n",
    "\n",
    "    for i in range (c_y - d_y):\n",
    "        y = d_y + i\n",
    "        x = int(d_x + (1./a) * (i))\n",
    "        D[x][y] = 1\n",
    "    return (D)\n",
    "\n",
    "def liner_(D, c_x,c_y,d_x,d_y):\n",
    "    a = (c_y - d_y)/(c_x - d_x)\n",
    "\n",
    "    for i in range (c_x - d_x):\n",
    "        x = d_x + i\n",
    "        y = int(d_y + a * (i))\n",
    "        D[x][y] = 1\n",
    "   \n",
    "    for i in range (c_y - d_y):\n",
    "        y = d_y + i\n",
    "        x = int(d_x + (1./a) * (i))\n",
    "        D[x][y] = 1\n",
    "    return(D)\n",
    "\n",
    "def liner_1(D, c_x,c_y,d_x,d_y):\n",
    "    a = (c_y - d_y)/(c_x - d_x)\n",
    "    print(a)\n",
    "    \n",
    "    for i in range(c_x - d_x):\n",
    "        x = d_x + i\n",
    "        y = int (d_y + a * i)\n",
    "        D[x][y] = 1 \n",
    "    for i in range(d_y - c_y):\n",
    "        y = d_y - i\n",
    "        x = int (d_x - 1./a * i)\n",
    "        D[x][y] = 1     \n",
    "        \n",
    "        \n",
    "    return(D)\n",
    "\n",
    "\n",
    "def zeros(k):\n",
    "    mat = np.zeros((k,k))\n",
    "    return (mat)"
   ]
  },
  {
   "cell_type": "code",
   "execution_count": 43,
   "metadata": {},
   "outputs": [
    {
     "name": "stdout",
     "output_type": "stream",
     "text": [
      "-0.9\n"
     ]
    },
    {
     "data": {
      "image/png": "[encoded data removed]",
      "text/plain": [
       "<matplotlib.figure.Figure at 0x10344b70>"
      ]
     },
     "metadata": {},
     "output_type": "display_data"
    }
   ],
   "source": [
    "def circle(k):\n",
    "    D = zeros(k)\n",
    "    aa_x, aa_y, bb_x, bb_y = two_point(k)\n",
    "    a_x = aa_x\n",
    "    a_y = (aa_y + bb_y) // 2\n",
    "    b_x = (aa_x + bb_x ) // 2 \n",
    "    b_y = bb_y\n",
    "    c_x = bb_x\n",
    "    c_y = (aa_y + bb_y) // 2\n",
    "    d_x = (aa_x + bb_x ) // 2 \n",
    "    d_y = aa_y\n",
    "    \n",
    "    A = liner(D, a_x, a_y, b_x, b_y)\n",
    "    B = liner_0(A, b_x, b_y, c_x, c_y)\n",
    "    C = liner_(B, c_x, c_y, d_x, d_y)\n",
    "    E = liner_1(C, d_x, d_y, a_x, a_y)\n",
    "    return (E)  \n",
    "\n",
    "plt.imshow(circle(50))\n",
    "\n",
    "plt.show()"
   ]
  },
  {
   "cell_type": "code",
   "execution_count": null,
   "metadata": {},
   "outputs": [],
   "source": []
  },
  {
   "cell_type": "code",
   "execution_count": null,
   "metadata": {
    "collapsed": true
   },
   "outputs": [],
   "source": []
  }
 ],
 "metadata": {
  "kernelspec": {
   "display_name": "Python 3",
   "language": "python",
   "name": "python3"
  },
  "language_info": {
   "codemirror_mode": {
    "name": "ipython",
    "version": 3
   },
   "file_extension": ".py",
   "mimetype": "text/x-python",
   "name": "python",
   "nbconvert_exporter": "python",
   "pygments_lexer": "ipython3",
   "version": "3.6.1"
  }
 },
 "nbformat": 4,
 "nbformat_minor": 2
}
