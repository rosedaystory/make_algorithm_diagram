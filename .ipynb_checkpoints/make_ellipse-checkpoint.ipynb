{
 "cells": [
  {
   "cell_type": "code",
   "execution_count": 1,
   "metadata": {},
   "outputs": [
    {
     "name": "stderr",
     "output_type": "stream",
     "text": [
      "C:\\ProgramData\\Anaconda3\\lib\\site-packages\\statsmodels\\compat\\pandas.py:56: FutureWarning: The pandas.core.datetools module is deprecated and will be removed in a future version. Please use the pandas.tseries module instead.\n",
      "  from pandas.core import datetools\n",
      "Using TensorFlow backend.\n"
     ]
    }
   ],
   "source": [
    "%run C://Users/a/apython/__init__/Normal_for_DSS.py"
   ]
  },
  {
   "cell_type": "code",
   "execution_count": 134,
   "metadata": {},
   "outputs": [],
   "source": [
    "def two_point(k):\n",
    "    a_x = np.random.randint((k-1)//2)*2\n",
    "    a_y = np.random.randint((k-1)//2)*2\n",
    "    b_x = np.random.randint((k-1)//2) * 2\n",
    "    b_y = np.random.randint((k-1)//2) * 2\n",
    "    while abs(b_x - a_x) < 10 :\n",
    "        b_x = np.random.randint((k-1)//2) * 2\n",
    "\n",
    "    while abs(b_y - a_y) < 10:\n",
    "        b_y = np.random.randint((k-1)//2) * 2\n",
    "        \n",
    "    c_x = min(a_x,b_x)\n",
    "    c_y = min(a_y,b_y)\n",
    "    d_x = max(a_x,b_x)\n",
    "    d_y = max(a_y,b_y)\n",
    "    return (c_x, c_y, d_x, d_y)\n",
    "\n",
    "def upper(D,a_x,a_y,b_x,b_y,c_x,c_y):\n",
    "    for i in range (c_x - a_x):\n",
    "        r = b_x - a_x\n",
    "        x = a_x + i\n",
    "        y = int(a_y + np.sqrt(r*r - (i-r)**2)/r*(b_y-a_y))\n",
    "        \n",
    "    for i in range()\n",
    "        D[x][y] = 1 \n",
    "    return (D)\n",
    "def bottom(D,a_x,a_y,b_x,b_y,c_x,c_y):\n",
    "    for i in range (c_x - a_x):\n",
    "        r = b_x - a_x\n",
    "        x = a_x + i\n",
    "        y = int(a_y - np.sqrt(r*r - (i-r)**2)/r*(b_y-a_y))\n",
    "        D[x][y] = 1 \n",
    "    return(D)\n",
    "        \n",
    "        \n",
    "def zeros(k):\n",
    "    mat = np.zeros((k,k))\n",
    "    return (mat)"
   ]
  },
  {
   "cell_type": "code",
   "execution_count": 140,
   "metadata": {},
   "outputs": [
    {
     "data": {
      "image/png": "[encoded data removed]",
      "text/plain": [
       "<matplotlib.figure.Figure at 0x10172b38>"
      ]
     },
     "metadata": {},
     "output_type": "display_data"
    }
   ],
   "source": [
    "def diamond_0(k):\n",
    "    D = zeros(k)\n",
    "    aa_x, aa_y, bb_x, bb_y = two_point(k)\n",
    "    a_x = aa_x\n",
    "    a_y = (aa_y + bb_y) // 2\n",
    "    b_x = (aa_x + bb_x ) // 2 \n",
    "    b_y = bb_y\n",
    "    c_x = bb_x\n",
    "    c_y = (aa_y + bb_y) // 2\n",
    "    d_x = (aa_x + bb_x ) // 2 \n",
    "    d_y = aa_y\n",
    "    \n",
    "    A = upper(D,a_x,a_y,b_x,b_y,c_x,c_y)\n",
    "    B = bottom(D,a_x,a_y,b_x,b_y,c_x,c_y)\n",
    "    return (B)  \n",
    "\n",
    "plt.imshow(diamond_0(50))\n",
    "\n",
    "plt.show()"
   ]
  },
  {
   "cell_type": "code",
   "execution_count": null,
   "metadata": {
    "collapsed": true
   },
   "outputs": [],
   "source": []
  },
  {
   "cell_type": "code",
   "execution_count": null,
   "metadata": {
    "collapsed": true
   },
   "outputs": [],
   "source": []
  }
 ],
 "metadata": {
  "kernelspec": {
   "display_name": "Python 3",
   "language": "python",
   "name": "python3"
  },
  "language_info": {
   "codemirror_mode": {
    "name": "ipython",
    "version": 3
   },
   "file_extension": ".py",
   "mimetype": "text/x-python",
   "name": "python",
   "nbconvert_exporter": "python",
   "pygments_lexer": "ipython3",
   "version": "3.6.1"
  }
 },
 "nbformat": 4,
 "nbformat_minor": 2
}
