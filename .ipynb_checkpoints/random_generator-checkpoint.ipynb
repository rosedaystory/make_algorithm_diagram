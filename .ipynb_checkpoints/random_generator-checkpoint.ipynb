{
 "cells": [
  {
   "cell_type": "code",
   "execution_count": 1,
   "metadata": {},
   "outputs": [
    {
     "name": "stderr",
     "output_type": "stream",
     "text": [
      "C:\\ProgramData\\Anaconda3\\lib\\site-packages\\statsmodels\\compat\\pandas.py:56: FutureWarning: The pandas.core.datetools module is deprecated and will be removed in a future version. Please use the pandas.tseries module instead.\n",
      "  from pandas.core import datetools\n",
      "Using TensorFlow backend.\n"
     ]
    }
   ],
   "source": [
    "%run C://Users/a/apython/__init__/Normal_for_DSS.py"
   ]
  },
  {
   "cell_type": "code",
   "execution_count": 11,
   "metadata": {
    "collapsed": true
   },
   "outputs": [],
   "source": [
    "def two_point(k):\n",
    "    a_x = np.random.randint(k)\n",
    "    a_y = np.random.randint(k)\n",
    "    b_x = np.random.randint(k)\n",
    "    b_y = np.random.randint(k)\n",
    "    while abs(b_x - a_x) < 10 :\n",
    "        b_x = np.random.randint((k-1)//2) * 2\n",
    "\n",
    "    while abs(b_y - a_y) < 10:\n",
    "        b_y = np.random.randint((k-1)//2) * 2\n",
    "    c_x = min(a_x,b_x)\n",
    "    c_y = min(a_y,b_y)\n",
    "    d_x = max(a_x,b_x)\n",
    "    d_y = max(a_y,b_y)\n",
    "    return (c_x, c_y, d_x, d_y)\n",
    "\n",
    "def zeros(k):\n",
    "    mat = np.zeros((k,k))\n",
    "    return (mat)\n",
    "\n",
    "def mk_square(k):\n",
    "    back = zeros(k)\n",
    "    c_x, c_y, d_x, d_y = two_point(k)\n",
    "    back[c_x,c_y:d_y+1] = 1\n",
    "    back[d_x,c_y:d_y+1] = 1\n",
    "    back[c_x:d_x,c_y] = 1\n",
    "    back[c_x:d_x,d_y] = 1\n",
    "    return back"
   ]
  },
  {
   "cell_type": "code",
   "execution_count": 22,
   "metadata": {
    "collapsed": true
   },
   "outputs": [],
   "source": [
    "def liner0(D, c_x,c_y,d_x,d_y):\n",
    "    a = (c_y - d_y)/(d_x - c_x)\n",
    "\n",
    "    for i in range (d_x - c_x):\n",
    "        x = c_x + i\n",
    "        y = int(c_y + a * (i))\n",
    "        D[x][y] = 1\n",
    "\n",
    "    for i in range (d_y - c_y):\n",
    "        y = c_y + i\n",
    "        x = int(c_x + (1./a) * (i))\n",
    "        D[x][y] = 1\n",
    "    return (D)\n",
    "\n",
    "\n",
    "\n",
    "def liner(D, c_x,c_y,d_x,d_y):\n",
    "    a = (d_y - c_y)/(d_x - c_x)\n",
    "\n",
    "    for i in range (d_x - c_x):\n",
    "        x = c_x + i\n",
    "        y = int(c_y + a * (i))\n",
    "        D[x][y] = 1\n",
    "\n",
    "    for i in range (d_y - c_y):\n",
    "        y = c_y + i\n",
    "        x = int(c_x + (1./a) * (i))\n",
    "        D[x][y] = 1\n",
    "    return (D)\n",
    "\n",
    "def liner_0(D, c_x,c_y,d_x,d_y):\n",
    "    a = (d_y - c_y)/(d_x - c_x)\n",
    "\n",
    "    for i in range (d_x - c_x):\n",
    "        x = c_x + i\n",
    "        y = int(c_y + a * (i))\n",
    "        D[x][y] = 1\n",
    "\n",
    "    for i in range (c_y - d_y):\n",
    "        y = d_y + i\n",
    "        x = int(d_x + (1./a) * (i))\n",
    "        D[x][y] = 1\n",
    "    return (D)\n",
    "\n",
    "def liner_(D, c_x,c_y,d_x,d_y):\n",
    "    a = (c_y - d_y)/(c_x - d_x)\n",
    "\n",
    "    for i in range (c_x - d_x):\n",
    "        x = d_x + i\n",
    "        y = int(d_y + a * (i))\n",
    "        D[x][y] = 1\n",
    "   \n",
    "    for i in range (c_y - d_y):\n",
    "        y = d_y + i\n",
    "        x = int(d_x + (1./a) * (i))\n",
    "        D[x][y] = 1\n",
    "    return(D)\n",
    "\n",
    "def liner_1(D, c_x,c_y,d_x,d_y):\n",
    "    a = (c_y - d_y)/(c_x - d_x)\n",
    "\n",
    "    \n",
    "    for i in range(c_x - d_x):\n",
    "        x = d_x + i\n",
    "        y = int (d_y + a * i)\n",
    "        D[x][y] = 1 \n",
    "    for i in range(d_y - c_y):\n",
    "        y = d_y - i\n",
    "        x = int (d_x - 1./a * i)\n",
    "        D[x][y] = 1     \n",
    "        \n",
    "        \n",
    "    return(D)\n",
    "\n",
    "def diamond_0(k):\n",
    "    D = zeros(k)\n",
    "    aa_x, aa_y, bb_x, bb_y = two_point(k)\n",
    "    a_x = aa_x\n",
    "    a_y = (aa_y + bb_y) // 2\n",
    "    b_x = (aa_x + bb_x ) // 2 \n",
    "    b_y = bb_y\n",
    "    c_x = bb_x\n",
    "    c_y = (aa_y + bb_y) // 2\n",
    "    d_x = (aa_x + bb_x ) // 2 \n",
    "    d_y = aa_y\n",
    "    \n",
    "    A = liner(D, a_x, a_y, b_x, b_y)\n",
    "    B = liner_0(A, b_x, b_y, c_x, c_y)\n",
    "    C = liner_(B, c_x, c_y, d_x, d_y)\n",
    "    E = liner_1(C, d_x, d_y, a_x, a_y)\n",
    "    return (E)  \n",
    "\n"
   ]
  },
  {
   "cell_type": "code",
   "execution_count": 23,
   "metadata": {},
   "outputs": [],
   "source": [
    "def upper(D,a_x,a_y,b_x,b_y,c_x,c_y):\n",
    "    rr = (b_y - a_y)\n",
    "    for i in range (c_x - a_x):\n",
    "        r = b_x - a_x\n",
    "        x = a_x + i\n",
    "        y = int(a_y + np.sqrt(r*r - (i-r)**2)/r*(b_y-a_y))\n",
    "        D[x][y] = 1 \n",
    "        \n",
    "    for i in range(rr*2):\n",
    "        y = b_y - i\n",
    "        x = int (b_x + np.sqrt(rr*rr - (i - rr)**2)/rr*(c_x - b_x) )\n",
    "        D[x][y] = 1 \n",
    "    return (D)\n",
    "def bottom(D,a_x,a_y,b_x,b_y,c_x,c_y):\n",
    "    rr = (b_y - a_y)\n",
    "    for i in range (c_x - a_x):\n",
    "        r = b_x - a_x\n",
    "        x = a_x + i\n",
    "        y = int(a_y - np.sqrt(r*r - (i-r)**2)/r*(b_y-a_y))\n",
    "        D[x][y] = 1 \n",
    "   \n",
    "    for i in range(rr*2):\n",
    "        y = b_y - i\n",
    "        x = int (b_x - np.sqrt(rr*rr - (i - rr)**2)/rr*(c_x - b_x) )\n",
    "        D[x][y] = 1 \n",
    "    return(D)\n",
    "\n",
    "\n",
    "def ellipse(k):\n",
    "    D = zeros(k)\n",
    "    aa_x, aa_y, bb_x, bb_y = two_point(k)\n",
    "    a_x = aa_x\n",
    "    a_y = (aa_y + bb_y) // 2\n",
    "    b_x = (aa_x + bb_x ) // 2 \n",
    "    b_y = bb_y\n",
    "    c_x = bb_x\n",
    "    c_y = (aa_y + bb_y) // 2\n",
    "    d_x = (aa_x + bb_x ) // 2 \n",
    "    d_y = aa_y\n",
    "    \n",
    "    A = upper(D,a_x,a_y,b_x,b_y,c_x,c_y)\n",
    "    B = bottom(D,a_x,a_y,b_x,b_y,c_x,c_y)\n",
    "    return (B)  \n",
    "\n"
   ]
  },
  {
   "cell_type": "code",
   "execution_count": 68,
   "metadata": {},
   "outputs": [],
   "source": [
    "D = np.arange(15000*50*50).reshape(15000,50,50)\n",
    "F = np.arange(15000)\n",
    "for i in range (15000):\n",
    "    a = np.random.randint(0, high=3)\n",
    "    if a == 2:\n",
    "        F[i] = a\n",
    "        D[i] = mk_square(50)\n",
    "    if a == 1:\n",
    "        F[i] = a\n",
    "        D[i] = diamond_0(50)\n",
    "    if a == 0:\n",
    "        F[i] = a\n",
    "        D[i] = ellipse(50)"
   ]
  },
  {
   "cell_type": "code",
   "execution_count": 70,
   "metadata": {},
   "outputs": [],
   "source": [
    "E = D.reshape(15000,-1)"
   ]
  },
  {
   "cell_type": "code",
   "execution_count": 71,
   "metadata": {},
   "outputs": [],
   "source": [
    "train = pd.DataFrame(E)\n",
    "cat = pd.DataFrame(F)\n",
    "cat.columns ={\"cat\"}"
   ]
  },
  {
   "cell_type": "code",
   "execution_count": 72,
   "metadata": {},
   "outputs": [],
   "source": [
    "train = pd.merge(cat,train,left_index=True, right_index=True)"
   ]
  },
  {
   "cell_type": "code",
   "execution_count": 73,
   "metadata": {},
   "outputs": [],
   "source": [
    "train.to_csv(\"train.csv\")"
   ]
  },
  {
   "cell_type": "code",
   "execution_count": null,
   "metadata": {
    "collapsed": true
   },
   "outputs": [],
   "source": []
  }
 ],
 "metadata": {
  "kernelspec": {
   "display_name": "Python 3",
   "language": "python",
   "name": "python3"
  },
  "language_info": {
   "codemirror_mode": {
    "name": "ipython",
    "version": 3
   },
   "file_extension": ".py",
   "mimetype": "text/x-python",
   "name": "python",
   "nbconvert_exporter": "python",
   "pygments_lexer": "ipython3",
   "version": "3.6.1"
  }
 },
 "nbformat": 4,
 "nbformat_minor": 2
}
